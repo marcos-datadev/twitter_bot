{
 "cells": [
  {
   "cell_type": "code",
   "execution_count": 47,
   "metadata": {},
   "outputs": [],
   "source": [
    "import tweepy\n",
    "import wikipedia\n",
    "import random"
   ]
  },
  {
   "cell_type": "code",
   "execution_count": 48,
   "metadata": {},
   "outputs": [],
   "source": [
    "api_key = \"AlY8OS5KbDwH3uB4wynUwxLB7\"\n",
    "api_secret = \"IuQL9CmQ8ZClzXqDo9dolgokSjrejTPyG6qDMq3jkOcT2UFUpf\"\n",
    "bearer_token = r\"AAAAAAAAAAAAAAAAAAAAALqOuAEAAAAAhAtdoQAuAxzIaHT2LSBSH8x4I48%3D4lnH09A3YZdRPdmSxma6bT5HG0DhFgDgirL6fSG2eoEVcdA1Ie\"\n",
    "access_token = \"1798097583975415808-zubkJjI2qi6bOo8lKHUwIB7ha6B3YI\"\n",
    "access_token_secret = \"hue6s46LDcvXlYM9j9XDQ0xjWaAD2TOYvki53qvFTBeGo\""
   ]
  },
  {
   "cell_type": "code",
   "execution_count": 49,
   "metadata": {},
   "outputs": [],
   "source": [
    "client = tweepy.Client(bearer_token, api_key, api_secret, access_token, access_token_secret)\n",
    "auth = tweepy.OAuth1UserHandler(api_key, api_secret, access_token, access_token_secret)\n",
    "api = tweepy.API(auth)"
   ]
  },
  {
   "cell_type": "code",
   "execution_count": 50,
   "metadata": {},
   "outputs": [],
   "source": [
    "lista_de_assuntos = ['D&D', 'Gurps', 'Old Scholl renaiscence', 'Vampire']\n",
    "\n",
    "def escolhe_url(lista_de_assuntos):\n",
    "    assunto = random.choice(lista_de_assuntos)\n",
    "    paginas = wikipedia.search(assunto)\n",
    "    pagina_selecionada = wikipedia.page( random.choice(paginas) )\n",
    "    url = pagina_selecionada.url\n",
    "    return url\n",
    "\n",
    "client.create_tweet(text = escolhe_url(lista_de_assuntos))"
   ]
  },
  {
   "cell_type": "code",
   "execution_count": 51,
   "metadata": {},
   "outputs": [
    {
     "name": "stderr",
     "output_type": "stream",
     "text": [
      "/home/marcos/.local/lib/python3.10/site-packages/wikipedia/wikipedia.py:389: GuessedAtParserWarning: No parser was explicitly specified, so I'm using the best available HTML parser for this system (\"html.parser\"). This usually isn't a problem, but if you run this code on another system, or in a different virtual environment, it may use a different parser and behave differently.\n",
      "\n",
      "The code that caused this warning is on line 389 of the file /home/marcos/.local/lib/python3.10/site-packages/wikipedia/wikipedia.py. To get rid of this warning, pass the additional argument 'features=\"html.parser\"' to the BeautifulSoup constructor.\n",
      "\n",
      "  lis = BeautifulSoup(html).find_all('li')\n"
     ]
    },
    {
     "ename": "DisambiguationError",
     "evalue": "\"White wizard\" may refer to: \nWhite Mage (Final Fantasy)\n\"The Dragon's Secret\"\na character in Kamen Rider Wizard\na character in 8-Bit Theater\nDreamspell\nWizard Staff\nBurling Hull\nWhite Wizard Games\nAll pages with titles containing white wizard\nAll pages with titles containing white mage\nWhite Wizzard\nWhite Witch (disambiguation)\nWizard (disambiguation)\nWizard (fantasy)\nMage (disambiguation)\nGandalf the White",
     "output_type": "error",
     "traceback": [
      "\u001b[0;31m---------------------------------------------------------------------------\u001b[0m",
      "\u001b[0;31mDisambiguationError\u001b[0m                       Traceback (most recent call last)",
      "Cell \u001b[0;32mIn[51], line 1\u001b[0m\n\u001b[0;32m----> 1\u001b[0m client\u001b[38;5;241m.\u001b[39mcreate_tweet(text \u001b[38;5;241m=\u001b[39m \u001b[43mescolhe_url\u001b[49m\u001b[43m(\u001b[49m\u001b[43mlista_de_assuntos\u001b[49m\u001b[43m)\u001b[49m)\n",
      "Cell \u001b[0;32mIn[50], line 6\u001b[0m, in \u001b[0;36mescolhe_url\u001b[0;34m(lista_de_assuntos)\u001b[0m\n\u001b[1;32m      4\u001b[0m assunto \u001b[38;5;241m=\u001b[39m random\u001b[38;5;241m.\u001b[39mchoice(lista_de_assuntos)\n\u001b[1;32m      5\u001b[0m paginas \u001b[38;5;241m=\u001b[39m wikipedia\u001b[38;5;241m.\u001b[39msearch(assunto)\n\u001b[0;32m----> 6\u001b[0m pagina_selecionada \u001b[38;5;241m=\u001b[39m \u001b[43mwikipedia\u001b[49m\u001b[38;5;241;43m.\u001b[39;49m\u001b[43mpage\u001b[49m\u001b[43m(\u001b[49m\u001b[43m \u001b[49m\u001b[43mrandom\u001b[49m\u001b[38;5;241;43m.\u001b[39;49m\u001b[43mchoice\u001b[49m\u001b[43m(\u001b[49m\u001b[43mpaginas\u001b[49m\u001b[43m)\u001b[49m\u001b[43m \u001b[49m\u001b[43m)\u001b[49m\n\u001b[1;32m      7\u001b[0m url \u001b[38;5;241m=\u001b[39m pagina_selecionada\u001b[38;5;241m.\u001b[39murl\n\u001b[1;32m      8\u001b[0m \u001b[38;5;28;01mreturn\u001b[39;00m url\n",
      "File \u001b[0;32m~/.local/lib/python3.10/site-packages/wikipedia/wikipedia.py:276\u001b[0m, in \u001b[0;36mpage\u001b[0;34m(title, pageid, auto_suggest, redirect, preload)\u001b[0m\n\u001b[1;32m    273\u001b[0m     \u001b[38;5;28;01mexcept\u001b[39;00m \u001b[38;5;167;01mIndexError\u001b[39;00m:\n\u001b[1;32m    274\u001b[0m       \u001b[38;5;66;03m# if there is no suggestion or search results, the page doesn't exist\u001b[39;00m\n\u001b[1;32m    275\u001b[0m       \u001b[38;5;28;01mraise\u001b[39;00m PageError(title)\n\u001b[0;32m--> 276\u001b[0m   \u001b[38;5;28;01mreturn\u001b[39;00m \u001b[43mWikipediaPage\u001b[49m\u001b[43m(\u001b[49m\u001b[43mtitle\u001b[49m\u001b[43m,\u001b[49m\u001b[43m \u001b[49m\u001b[43mredirect\u001b[49m\u001b[38;5;241;43m=\u001b[39;49m\u001b[43mredirect\u001b[49m\u001b[43m,\u001b[49m\u001b[43m \u001b[49m\u001b[43mpreload\u001b[49m\u001b[38;5;241;43m=\u001b[39;49m\u001b[43mpreload\u001b[49m\u001b[43m)\u001b[49m\n\u001b[1;32m    277\u001b[0m \u001b[38;5;28;01melif\u001b[39;00m pageid \u001b[38;5;129;01mis\u001b[39;00m \u001b[38;5;129;01mnot\u001b[39;00m \u001b[38;5;28;01mNone\u001b[39;00m:\n\u001b[1;32m    278\u001b[0m   \u001b[38;5;28;01mreturn\u001b[39;00m WikipediaPage(pageid\u001b[38;5;241m=\u001b[39mpageid, preload\u001b[38;5;241m=\u001b[39mpreload)\n",
      "File \u001b[0;32m~/.local/lib/python3.10/site-packages/wikipedia/wikipedia.py:299\u001b[0m, in \u001b[0;36mWikipediaPage.__init__\u001b[0;34m(self, title, pageid, redirect, preload, original_title)\u001b[0m\n\u001b[1;32m    296\u001b[0m \u001b[38;5;28;01melse\u001b[39;00m:\n\u001b[1;32m    297\u001b[0m   \u001b[38;5;28;01mraise\u001b[39;00m \u001b[38;5;167;01mValueError\u001b[39;00m(\u001b[38;5;124m\"\u001b[39m\u001b[38;5;124mEither a title or a pageid must be specified\u001b[39m\u001b[38;5;124m\"\u001b[39m)\n\u001b[0;32m--> 299\u001b[0m \u001b[38;5;28;43mself\u001b[39;49m\u001b[38;5;241;43m.\u001b[39;49m\u001b[43m__load\u001b[49m\u001b[43m(\u001b[49m\u001b[43mredirect\u001b[49m\u001b[38;5;241;43m=\u001b[39;49m\u001b[43mredirect\u001b[49m\u001b[43m,\u001b[49m\u001b[43m \u001b[49m\u001b[43mpreload\u001b[49m\u001b[38;5;241;43m=\u001b[39;49m\u001b[43mpreload\u001b[49m\u001b[43m)\u001b[49m\n\u001b[1;32m    301\u001b[0m \u001b[38;5;28;01mif\u001b[39;00m preload:\n\u001b[1;32m    302\u001b[0m   \u001b[38;5;28;01mfor\u001b[39;00m prop \u001b[38;5;129;01min\u001b[39;00m (\u001b[38;5;124m'\u001b[39m\u001b[38;5;124mcontent\u001b[39m\u001b[38;5;124m'\u001b[39m, \u001b[38;5;124m'\u001b[39m\u001b[38;5;124msummary\u001b[39m\u001b[38;5;124m'\u001b[39m, \u001b[38;5;124m'\u001b[39m\u001b[38;5;124mimages\u001b[39m\u001b[38;5;124m'\u001b[39m, \u001b[38;5;124m'\u001b[39m\u001b[38;5;124mreferences\u001b[39m\u001b[38;5;124m'\u001b[39m, \u001b[38;5;124m'\u001b[39m\u001b[38;5;124mlinks\u001b[39m\u001b[38;5;124m'\u001b[39m, \u001b[38;5;124m'\u001b[39m\u001b[38;5;124msections\u001b[39m\u001b[38;5;124m'\u001b[39m):\n",
      "File \u001b[0;32m~/.local/lib/python3.10/site-packages/wikipedia/wikipedia.py:393\u001b[0m, in \u001b[0;36mWikipediaPage.__load\u001b[0;34m(self, redirect, preload)\u001b[0m\n\u001b[1;32m    390\u001b[0m   filtered_lis \u001b[38;5;241m=\u001b[39m [li \u001b[38;5;28;01mfor\u001b[39;00m li \u001b[38;5;129;01min\u001b[39;00m lis \u001b[38;5;28;01mif\u001b[39;00m \u001b[38;5;129;01mnot\u001b[39;00m \u001b[38;5;124m'\u001b[39m\u001b[38;5;124mtocsection\u001b[39m\u001b[38;5;124m'\u001b[39m \u001b[38;5;129;01min\u001b[39;00m \u001b[38;5;124m'\u001b[39m\u001b[38;5;124m'\u001b[39m\u001b[38;5;241m.\u001b[39mjoin(li\u001b[38;5;241m.\u001b[39mget(\u001b[38;5;124m'\u001b[39m\u001b[38;5;124mclass\u001b[39m\u001b[38;5;124m'\u001b[39m, []))]\n\u001b[1;32m    391\u001b[0m   may_refer_to \u001b[38;5;241m=\u001b[39m [li\u001b[38;5;241m.\u001b[39ma\u001b[38;5;241m.\u001b[39mget_text() \u001b[38;5;28;01mfor\u001b[39;00m li \u001b[38;5;129;01min\u001b[39;00m filtered_lis \u001b[38;5;28;01mif\u001b[39;00m li\u001b[38;5;241m.\u001b[39ma]\n\u001b[0;32m--> 393\u001b[0m   \u001b[38;5;28;01mraise\u001b[39;00m DisambiguationError(\u001b[38;5;28mgetattr\u001b[39m(\u001b[38;5;28mself\u001b[39m, \u001b[38;5;124m'\u001b[39m\u001b[38;5;124mtitle\u001b[39m\u001b[38;5;124m'\u001b[39m, page[\u001b[38;5;124m'\u001b[39m\u001b[38;5;124mtitle\u001b[39m\u001b[38;5;124m'\u001b[39m]), may_refer_to)\n\u001b[1;32m    395\u001b[0m \u001b[38;5;28;01melse\u001b[39;00m:\n\u001b[1;32m    396\u001b[0m   \u001b[38;5;28mself\u001b[39m\u001b[38;5;241m.\u001b[39mpageid \u001b[38;5;241m=\u001b[39m pageid\n",
      "\u001b[0;31mDisambiguationError\u001b[0m: \"White wizard\" may refer to: \nWhite Mage (Final Fantasy)\n\"The Dragon's Secret\"\na character in Kamen Rider Wizard\na character in 8-Bit Theater\nDreamspell\nWizard Staff\nBurling Hull\nWhite Wizard Games\nAll pages with titles containing white wizard\nAll pages with titles containing white mage\nWhite Wizzard\nWhite Witch (disambiguation)\nWizard (disambiguation)\nWizard (fantasy)\nMage (disambiguation)\nGandalf the White"
     ]
    }
   ],
   "source": []
  },
  {
   "cell_type": "code",
   "execution_count": null,
   "metadata": {},
   "outputs": [],
   "source": []
  }
 ],
 "metadata": {
  "kernelspec": {
   "display_name": "Python 3",
   "language": "python",
   "name": "python3"
  },
  "language_info": {
   "codemirror_mode": {
    "name": "ipython",
    "version": 3
   },
   "file_extension": ".py",
   "mimetype": "text/x-python",
   "name": "python",
   "nbconvert_exporter": "python",
   "pygments_lexer": "ipython3",
   "version": "3.10.12"
  }
 },
 "nbformat": 4,
 "nbformat_minor": 2
}
